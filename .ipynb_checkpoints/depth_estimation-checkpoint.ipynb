{
 "cells": [
  {
   "cell_type": "code",
   "execution_count": 15,
   "id": "1283a8a8-036e-4253-8fc6-cb1b8df06195",
   "metadata": {},
   "outputs": [],
   "source": [
    "import os\n",
    "import sys\n",
    "import pathlib \n",
    "import time\n",
    "import numpy as np\n",
    "import cv2\n",
    "import pandas as pd\n",
    "import matplotlib as mpl\n",
    "import tensorflow as tf\n",
    "\n",
    "from matplotlib import pyplot as plt\n",
    "from tensorflow import keras "
   ]
  },
  {
   "cell_type": "code",
   "execution_count": 6,
   "id": "8955aaa6-2dd1-4240-8142-1f157295a1ea",
   "metadata": {},
   "outputs": [],
   "source": [
    "ROOT_DIR = globals()[\"_dh\"][0]"
   ]
  },
  {
   "cell_type": "code",
   "execution_count": 14,
   "id": "024df421-c6bb-4d14-8130-c0adb37a9b01",
   "metadata": {},
   "outputs": [
    {
     "name": "stdout",
     "output_type": "stream",
     "text": [
      "Downloading data from http://diode-dataset.s3.amazonaws.com/val.tar.gz\n",
      "2774630400/2774625282 [==============================] - 7575s 3us/step\n",
      "2774638592/2774625282 [==============================] - 7575s 3us/step\n",
      "Hours: 2.0,\n",
      "Minutes: 6.0,\n",
      "Seconds: 42.59250473976135\n"
     ]
    }
   ],
   "source": [
    "if not (ROOT_DIR / \"dataset\").exists():\n",
    "    t1 = time.time()\n",
    "    data_path = keras.utils.get_file(\n",
    "        fname=\"val.tar.gz\",\n",
    "        origin=\"http://diode-dataset.s3.amazonaws.com/val.tar.gz\",\n",
    "        extract=True,\n",
    "        cache_subdir=\"dataset\",\n",
    "        cache_dir=str(ROOT_DIR)\n",
    "    )\n",
    "    t2 = time.time()\n",
    "    delta_t = t2 - t1\n",
    "    h = delta_t // 60 // 60\n",
    "    m = delta_t // 60 % 60\n",
    "    s = delta_t % 60 % 60 \n",
    "    print(f\"Hours: {h},\\nMinutes: {m},\\nSeconds: {s}\")"
   ]
  },
  {
   "cell_type": "code",
   "execution_count": 16,
   "id": "d3eab0c2-1a9a-47dc-83c8-12bb66ed4f8f",
   "metadata": {},
   "outputs": [
    {
     "data": {
      "text/plain": [
       "WindowsPath('val/indoors')"
      ]
     },
     "execution_count": 16,
     "metadata": {},
     "output_type": "execute_result"
    }
   ],
   "source": [
    "path = pathlib.Path(\"val/indoors\")\n",
    "\n",
    "filelist = []\n",
    "\n",
    "for root, dirs, files in os.walk(path):\n",
    "    for file in files:\n",
    "        filelist.append(os.path.join(root, file))\n",
    "\n",
    "filelist.sort()\n",
    "data = {\n",
    "    \"image\": [x for x in filelist if x.]\n",
    "}"
   ]
  },
  {
   "cell_type": "code",
   "execution_count": 38,
   "id": "ae7684d5-f214-4173-bc12-7188c1a9c914",
   "metadata": {},
   "outputs": [
    {
     "data": {
      "text/plain": [
       "array([[1, 4],\n",
       "       [2, 3],\n",
       "       [3, 1],\n",
       "       [4, 2]])"
      ]
     },
     "execution_count": 38,
     "metadata": {},
     "output_type": "execute_result"
    }
   ],
   "source": [
    "a = np.array([\n",
    "    [3, 1],\n",
    "    [2, 3],\n",
    "    [1, 4],\n",
    "    [4, 2]\n",
    "])\n",
    "\n",
    "a[a[:, 0].argsort()]"
   ]
  },
  {
   "cell_type": "code",
   "execution_count": null,
   "id": "3057accc-2f66-4f4a-979f-6d77a8228902",
   "metadata": {},
   "outputs": [],
   "source": []
  }
 ],
 "metadata": {
  "kernelspec": {
   "display_name": "Python 3 (ipykernel)",
   "language": "python",
   "name": "python3"
  },
  "language_info": {
   "codemirror_mode": {
    "name": "ipython",
    "version": 3
   },
   "file_extension": ".py",
   "mimetype": "text/x-python",
   "name": "python",
   "nbconvert_exporter": "python",
   "pygments_lexer": "ipython3",
   "version": "3.9.0"
  }
 },
 "nbformat": 4,
 "nbformat_minor": 5
}
