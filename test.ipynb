{
 "cells": [
  {
   "cell_type": "code",
   "execution_count": 1,
   "id": "6d9523ab-1b76-4762-bb06-b9e05286c757",
   "metadata": {},
   "outputs": [],
   "source": [
    "import os\n",
    "import pathlib\n",
    "import numpy as np\n",
    "import cv2 \n",
    "import matplotlib as mpl"
   ]
  },
  {
   "cell_type": "code",
   "execution_count": 2,
   "id": "17b1692a-98c6-42e5-bb86-c77805dfca90",
   "metadata": {},
   "outputs": [],
   "source": [
    "def to_homo_coords(coords):\n",
    "    return np.array([\n",
    "        [point[0], point[1], 1.]\n",
    "        for point in coords\n",
    "    ], dtype=np.float32)\n",
    "\n",
    "def from_homo_coords(coords):\n",
    "    return np.array([\n",
    "        [point[0] / point[2], point[1] / point[2]]\n",
    "        for point in coords\n",
    "    ])"
   ]
  },
  {
   "cell_type": "code",
   "execution_count": 3,
   "id": "780e57fa-0db7-4902-bd41-e386402dabb2",
   "metadata": {},
   "outputs": [
    {
     "data": {
      "text/plain": [
       "array([[-4.72455375e+01,  4.93865739e+01, -1.35441965e+03],\n",
       "       [-4.07932908e+01, -9.85837860e+01,  1.33767999e+04],\n",
       "       [-5.03697922e-02, -1.46352343e-01,  1.00000000e+00]])"
      ]
     },
     "execution_count": 3,
     "metadata": {},
     "output_type": "execute_result"
    }
   ],
   "source": [
    "src = np.array([\n",
    "    [79., 103.],\n",
    "    [166., 67.],\n",
    "    [425., 434.],\n",
    "    [701., 228.]\n",
    "], dtype=np.float32)\n",
    "\n",
    "dst = np.array([\n",
    "    [0., 0.],\n",
    "    [343., 0.],\n",
    "    [0., 557.],\n",
    "    [343., 557.]\n",
    "], dtype=np.float32)\n",
    "\n",
    "M = cv2.getPerspectiveTransform(src, dst)\n",
    "M"
   ]
  },
  {
   "cell_type": "code",
   "execution_count": 4,
   "id": "70ff1c0f-cffb-44c7-8b18-ba628a3a0b32",
   "metadata": {},
   "outputs": [],
   "source": [
    "rectangle1 = np.array([\n",
    "    [161., 83.],\n",
    "    [175., 83.],\n",
    "    [161., 94.],\n",
    "    [175., 94.]\n",
    "], dtype=np.float32)\n",
    "\n",
    "rectangle2 = np.array( [\n",
    "    [448., 140.],\n",
    "    [472., 140.],\n",
    "    [448., 169.],\n",
    "    [472., 169.]\n",
    "], dtype=np.float32)"
   ]
  },
  {
   "cell_type": "code",
   "execution_count": 5,
   "id": "67579c77-8dac-49cc-92b4-c1fa97674c85",
   "metadata": {},
   "outputs": [
    {
     "data": {
      "text/plain": [
       "array([[0., 0., 0., 0.],\n",
       "       [0., 0., 0., 0.]], dtype=float32)"
      ]
     },
     "execution_count": 5,
     "metadata": {},
     "output_type": "execute_result"
    }
   ],
   "source": [
    "cv2.warpPerspective(rectangle2, M, rectangle2.shape) # ??? "
   ]
  },
  {
   "cell_type": "code",
   "execution_count": 6,
   "id": "a64721fe-f3ee-48df-975a-5b807a1f9332",
   "metadata": {},
   "outputs": [
    {
     "data": {
      "text/plain": [
       "array([[371.09266394, 444.66357461],\n",
       "       [386.93239932, 454.86830883],\n",
       "       [306.14104591, 465.65055491],\n",
       "       [322.21844817, 474.40960367]])"
      ]
     },
     "execution_count": 6,
     "metadata": {},
     "output_type": "execute_result"
    }
   ],
   "source": [
    "hrec = to_homo_coords(rectangle2)\n",
    "res = from_homo_coords((M @ hrec.T).T)\n",
    "res"
   ]
  },
  {
   "cell_type": "code",
   "execution_count": 7,
   "id": "895e711d-dcf8-4450-ace5-b92c18bbd626",
   "metadata": {},
   "outputs": [
    {
     "data": {
      "text/plain": [
       "array([[448., 140.,   1.],\n",
       "       [472., 140.,   1.],\n",
       "       [448., 169.,   1.],\n",
       "       [472., 169.,   1.]], dtype=float32)"
      ]
     },
     "execution_count": 7,
     "metadata": {},
     "output_type": "execute_result"
    }
   ],
   "source": [
    "hrec = to_homo_coords(rectangle2)\n",
    "hrec"
   ]
  },
  {
   "cell_type": "code",
   "execution_count": 10,
   "id": "39de5fd1-0e5b-4505-9390-c0ef35fa45c6",
   "metadata": {},
   "outputs": [
    {
     "data": {
      "text/plain": [
       "array([[[371.09265, 444.66357],\n",
       "        [386.9324 , 454.86832],\n",
       "        [306.14105, 465.65054],\n",
       "        [322.21844, 474.4096 ]]], dtype=float32)"
      ]
     },
     "execution_count": 10,
     "metadata": {},
     "output_type": "execute_result"
    }
   ],
   "source": [
    "rectangle2 = np.array( [[\n",
    "    [448., 140.],\n",
    "    [472., 140.],\n",
    "    [448., 169.],\n",
    "    [472., 169.]\n",
    "]], dtype=np.float32)\n",
    "cv2.perspectiveTransform(rectangle2, M)"
   ]
  },
  {
   "cell_type": "code",
   "execution_count": null,
   "id": "94ae6fad-4730-43d7-82ca-20a1728f0fe3",
   "metadata": {},
   "outputs": [],
   "source": []
  }
 ],
 "metadata": {
  "kernelspec": {
   "display_name": "Python 3 (ipykernel)",
   "language": "python",
   "name": "python3"
  },
  "language_info": {
   "codemirror_mode": {
    "name": "ipython",
    "version": 3
   },
   "file_extension": ".py",
   "mimetype": "text/x-python",
   "name": "python",
   "nbconvert_exporter": "python",
   "pygments_lexer": "ipython3",
   "version": "3.9.0"
  }
 },
 "nbformat": 4,
 "nbformat_minor": 5
}
